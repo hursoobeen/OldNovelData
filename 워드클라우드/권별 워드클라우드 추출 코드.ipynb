{
  "nbformat": 4,
  "nbformat_minor": 0,
  "metadata": {
    "colab": {
      "provenance": []
    },
    "kernelspec": {
      "name": "python3",
      "display_name": "Python 3"
    },
    "language_info": {
      "name": "python"
    }
  },
  "cells": [
    {
      "cell_type": "code",
      "execution_count": null,
      "metadata": {
        "id": "Bw9Gz5S9c20_"
      },
      "outputs": [],
      "source": [
        "# Konlpy 설치\n",
        "!apt-get install g++ openjdk-7-jdk # Install Java 1.7+\n",
        "!apt-get install python3-dev; pip3 install konlpy # Python 3.x\n",
        "\n",
        "# Kiwi 형태소분석기 설치\n",
        "!pip install kiwipiepy\n",
        "\n",
        "# colab에서 한글폰트 설치\n",
        "!sudo apt-get install -y fonts-nanum\n",
        "!sudo fc-cache -fv\n",
        "!rm ~/.cache/matplotlib -rf\n",
        "\n",
        "# PDF reader 설치\n",
        "!pip install PyPDF2"
      ]
    },
    {
      "cell_type": "code",
      "source": [
        "!find / -name 'Nanum*'"
      ],
      "metadata": {
        "id": "8yn84Zrqd_o6",
        "colab": {
          "base_uri": "https://localhost:8080/"
        },
        "outputId": "0d0e18fc-b527-43f0-c869-a4a984db0855"
      },
      "execution_count": null,
      "outputs": [
        {
          "output_type": "stream",
          "name": "stdout",
          "text": [
            "/usr/share/fonts/truetype/nanum/NanumGothicCoding.ttf\n",
            "/usr/share/fonts/truetype/nanum/NanumSquareRoundB.ttf\n",
            "/usr/share/fonts/truetype/nanum/NanumGothic.ttf\n",
            "/usr/share/fonts/truetype/nanum/NanumBarunGothicBold.ttf\n",
            "/usr/share/fonts/truetype/nanum/NanumMyeongjo.ttf\n",
            "/usr/share/fonts/truetype/nanum/NanumSquareB.ttf\n",
            "/usr/share/fonts/truetype/nanum/NanumMyeongjoBold.ttf\n",
            "/usr/share/fonts/truetype/nanum/NanumGothicBold.ttf\n",
            "/usr/share/fonts/truetype/nanum/NanumBarunGothic.ttf\n",
            "/usr/share/fonts/truetype/nanum/NanumGothicCodingBold.ttf\n",
            "/usr/share/fonts/truetype/nanum/NanumSquareRoundR.ttf\n",
            "/usr/share/fonts/truetype/nanum/NanumSquareR.ttf\n",
            "find: ‘/proc/56/task/56/net’: Invalid argument\n",
            "find: ‘/proc/56/net’: Invalid argument\n"
          ]
        }
      ]
    },
    {
      "cell_type": "markdown",
      "source": [
        "## 1. 1. 필수 라이브러리 임포트"
      ],
      "metadata": {
        "id": "w9rk2I1TdOkW"
      }
    },
    {
      "cell_type": "code",
      "source": [
        "from collections import Counter\n",
        "import numpy as np\n",
        "import pandas as pd\n",
        "\n",
        "from PyPDF2 import PdfReader # pdf를 텍스트로 읽어오는 라이브러리\n",
        "from wordcloud import WordCloud\n",
        "\n",
        "import matplotlib.pyplot as plt\n",
        "plt.rc('font', family='NanumBarunGothic')\n",
        "from PIL import Image\n",
        "\n",
        "import re #정규표현식\n",
        "from konlpy.tag import Okt # 한국어 형태소분석을 위한 라이브러리\n",
        "okt = Okt()\n",
        "\n",
        "from kiwipiepy import Kiwi\n",
        "from kiwipiepy.utils import Stopwords\n",
        "kiwi = Kiwi()"
      ],
      "metadata": {
        "id": "uQjnZ73SdDOw"
      },
      "execution_count": null,
      "outputs": []
    },
    {
      "cell_type": "markdown",
      "source": [
        "## 1. 2. 데이터 불러오기"
      ],
      "metadata": {
        "id": "OfFs5e4VdRah"
      }
    },
    {
      "cell_type": "code",
      "source": [
        "from google.colab import drive\n",
        "drive.mount('/content/drive')"
      ],
      "metadata": {
        "colab": {
          "base_uri": "https://localhost:8080/"
        },
        "id": "SdLcROK5dKG2",
        "outputId": "a0ba836a-7a79-4fc2-fe86-0356dfa1d26b"
      },
      "execution_count": null,
      "outputs": [
        {
          "output_type": "stream",
          "name": "stdout",
          "text": [
            "Mounted at /content/drive\n"
          ]
        }
      ]
    },
    {
      "cell_type": "code",
      "source": [
        "#  PDF 파일\n",
        "data_path = '/content/drive/MyDrive/박완서/6권 그 여자네 집_교정교열완료/6권 그여자네집 합본.pdf'"
      ],
      "metadata": {
        "id": "c93uI4uFdKEx"
      },
      "execution_count": null,
      "outputs": []
    },
    {
      "cell_type": "code",
      "source": [
        "reader = PdfReader(data_path)\n",
        "pages = reader.pages"
      ],
      "metadata": {
        "id": "5loB3njYdKCi"
      },
      "execution_count": null,
      "outputs": []
    },
    {
      "cell_type": "code",
      "source": [
        "raw_docs = ''\n",
        "for page in pages:\n",
        "    raw_docs += page.extract_text()"
      ],
      "metadata": {
        "id": "CXXKaNOQdKAf"
      },
      "execution_count": null,
      "outputs": []
    },
    {
      "cell_type": "markdown",
      "source": [
        "# Step 2. 워드클라우드 생성"
      ],
      "metadata": {
        "id": "HK6xmjiher7a"
      }
    },
    {
      "cell_type": "markdown",
      "source": [
        "## 2. 1. 데이터 정제\n",
        "    - 정규표현식을 활용한 특정문자열 패턴제거 및 수정\n",
        "    - 단어 필터링\n",
        "        - 품사태깅 및 필터링\n",
        "        - 불용어리스트 활용 필터링"
      ],
      "metadata": {
        "id": "m76D9XUElSmA"
      }
    },
    {
      "cell_type": "code",
      "source": [
        "# 단어 및 일반 띄어쓰기가 아닌 문자열 모두 제거\n",
        "is_not_word = re.compile('[^ㄱ-ㅎ가-힣a-zA-Z ]') #특정문자만 인식, 제거하는 정규표현식\n",
        "documents = is_not_word.sub('', raw_docs)\n",
        "documents"
      ],
      "metadata": {
        "id": "NtiNQVxZeq_4"
      },
      "execution_count": null,
      "outputs": []
    },
    {
      "cell_type": "code",
      "source": [
        "# 강제개행 및 위 작업이후 생긴 2개 이상의 띄어쓰기 하나로 압축하기\n",
        "is_double_space = re.compile(' +')\n",
        "documents = is_double_space.sub(' ', documents)\n",
        "documents"
      ],
      "metadata": {
        "id": "TjR2I-UKgrrX"
      },
      "execution_count": null,
      "outputs": []
    },
    {
      "cell_type": "code",
      "source": [
        "#stopwords 방식1.  파일 불러와서 입력\n",
        "with open('/content/drive/MyDrive/데이터/Colab Notebooks/불용어파일.txt', 'r') as f:\n",
        "    stopwords=f.read().splitlines()"
      ],
      "metadata": {
        "id": "WuvM7UoW9CkH"
      },
      "execution_count": null,
      "outputs": []
    },
    {
      "cell_type": "code",
      "source": [
        "stopwords\n"
      ],
      "metadata": {
        "id": "r4rvja-k-vF2"
      },
      "execution_count": null,
      "outputs": []
    },
    {
      "cell_type": "code",
      "source": [
        "filtered_words = []"
      ],
      "metadata": {
        "id": "1BmmpuPSiy9q"
      },
      "execution_count": null,
      "outputs": []
    },
    {
      "cell_type": "code",
      "source": [
        "kiwi.tokenize(documents)"
      ],
      "metadata": {
        "id": "sv8L3fp5_B9e"
      },
      "execution_count": null,
      "outputs": []
    },
    {
      "cell_type": "code",
      "source": [
        "# 단어 토큰화 - Kiwi 버전\n",
        "# Kiwi 토크나이저 참조 : https://github.com/bab2min/kiwipiepy\n",
        "tokenized_docs = kiwi.tokenize(documents)\n",
        "for token in tokenized_docs:\n",
        "    tag, word = token.tag, token.form\n",
        "    if tag in ['NNG', 'NNP'] and word not in stopwords and len(word)>=2:\n",
        "        filtered_words.append(word)"
      ],
      "metadata": {
        "id": "Fa0Vl_Omf6_7"
      },
      "execution_count": null,
      "outputs": []
    },
    {
      "cell_type": "code",
      "source": [
        "filtered_words"
      ],
      "metadata": {
        "id": "45w4FaECjid6"
      },
      "execution_count": null,
      "outputs": []
    },
    {
      "cell_type": "code",
      "source": [
        "# 단어빈도 딕셔너리 생성\n",
        "word_freq = dict(Counter(filtered_words))\n",
        "sorted_word_freq = sorted(word_freq.items(), key=lambda x: x[1], reverse=True)"
      ],
      "metadata": {
        "id": "lSltIW4UjOSQ"
      },
      "execution_count": null,
      "outputs": []
    },
    {
      "cell_type": "code",
      "source": [
        "# 가장 많이 등장한 단어 확인\n",
        "sorted_word_freq[:30]  #숫자만 조절"
      ],
      "metadata": {
        "id": "iofskeGgjOLt"
      },
      "execution_count": null,
      "outputs": []
    },
    {
      "cell_type": "markdown",
      "source": [
        "## 2. 2. 워드클라우드\n",
        "    - 기본 워드클라우드\n",
        "    - Masked 워드클라우드"
      ],
      "metadata": {
        "id": "snx32O5llpzz"
      }
    },
    {
      "cell_type": "code",
      "source": [
        "font_path = '/usr/share/fonts/truetype/nanum/NanumSquareB.ttf'\n",
        "wc = WordCloud(font_path = font_path,\n",
        "               background_color = 'white',\n",
        "               width = 1600,\n",
        "               height = 1600).generate_from_frequencies(word_freq)"
      ],
      "metadata": {
        "id": "h43pTGqYjOHj"
      },
      "execution_count": null,
      "outputs": []
    },
    {
      "cell_type": "code",
      "source": [
        "plt.figure(figsize = (10, 10))\n",
        "plt.imshow(wc, interpolation='bilinear')\n",
        "plt.axis('off')\n",
        "plt.show()"
      ],
      "metadata": {
        "id": "yHzp7eXjm2VE"
      },
      "execution_count": null,
      "outputs": []
    }
  ]
}